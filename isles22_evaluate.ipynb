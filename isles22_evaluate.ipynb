{
 "cells": [
  {
   "cell_type": "markdown",
   "id": "82866918",
   "metadata": {},
   "source": [
    "This notebook guides you through the ISLES22 data loading, visualization, and segmentation performance evaluation."
   ]
  },
  {
   "cell_type": "code",
   "execution_count": 1,
   "id": "92bb6841",
   "metadata": {},
   "outputs": [],
   "source": [
    "# imports.\n",
    "import nibabel as nib\n",
    "import numpy as np\n",
    "import os\n",
    "from matplotlib import pyplot as plt"
   ]
  },
  {
   "cell_type": "code",
   "execution_count": 7,
   "id": "4907c6c1",
   "metadata": {},
   "outputs": [],
   "source": [
    "# paths.\n",
    "isles_data_dir = 'dataset_isles22/'\n",
    "example_case = 1\n",
    "\n",
    "# Set images path.\n",
    "dwi_path = os.path.join(isles_data_dir, 'rawdata', 'sub-strokecase{}'.format(\"%04d\" %example_case), 'ses-0001',\n",
    "                    'sub-strokecase{}_ses-0001_dwi.nii.gz'.format(\"%04d\" % example_case))\n",
    "adc_path = dwi_path.replace('dwi', 'adc')\n",
    "flair_path = dwi_path.replace('dwi', 'flair')\n",
    "mask_path = dwi_path.replace('rawdata', 'derivatives').replace('dwi', 'msk')"
   ]
  },
  {
   "cell_type": "code",
   "execution_count": 8,
   "id": "1d76b879",
   "metadata": {},
   "outputs": [],
   "source": [
    "# Load image data.\n",
    "dwi_image = nib.load(dwi_path).get_fdata()\n",
    "adc_image = nib.load(adc_path).get_fdata()\n",
    "flair_image = nib.load(flair_path).get_fdata()\n",
    "mask_image = nib.load(mask_path).get_fdata()"
   ]
  },
  {
   "cell_type": "code",
   "execution_count": 9,
   "id": "278ef0f7",
   "metadata": {},
   "outputs": [
    {
     "name": "stdout",
     "output_type": "stream",
     "text": [
      "DType: dwi:  float64  adc:  float64  flair:  float64  mask:  float64\n",
      "MAX: dwi:  1881.3452233009475  adc:  4.718272735285941  flair:  2207.997802734375  mask:  1.0\n",
      "MIN: dwi:  -10.159334546391811  adc:  -0.2844416989803731  flair:  0.0  mask:  0.0\n"
     ]
    }
   ],
   "source": [
    "dwi_image.shape\n",
    "print(\"DType: dwi: \", dwi_image.dtype, \" adc: \", adc_image.dtype, \" flair: \", flair_image.dtype, \" mask: \", mask_image.dtype)\n",
    "print(\"MAX: dwi: \", dwi_image.max(), \" adc: \", adc_image.max(), \" flair: \", flair_image.max(), \" mask: \", mask_image.max())\n",
    "print(\"MIN: dwi: \", dwi_image.min(), \" adc: \", adc_image.min(), \" flair: \", flair_image.min(), \" mask: \", mask_image.min())\n"
   ]
  },
  {
   "cell_type": "code",
   "execution_count": 15,
   "id": "fda03418",
   "metadata": {},
   "outputs": [
    {
     "name": "stdout",
     "output_type": "stream",
     "text": [
      "<class 'numpy.ndarray'>\n",
      "(112, 112, 73)\n",
      "(112, 73)\n"
     ]
    }
   ],
   "source": [
    "print(type(dwi_image))\n",
    "print(dwi_image.shape)\n",
    "print(dwi_image[0].shape)\n"
   ]
  },
  {
   "cell_type": "code",
   "execution_count": 29,
   "id": "f05f48a9",
   "metadata": {},
   "outputs": [
    {
     "data": {
      "image/png": "[encoded data removed]",
      "text/plain": [
       "<Figure size 432x288 with 3 Axes>"
      ]
     },
     "metadata": {
      "needs_background": "light"
     },
     "output_type": "display_data"
    }
   ],
   "source": [
    "# Lets visualize the MR images with their corresponding mask overlays.\n",
    "\n",
    "fig, (ax1, ax2, ax3) = plt.subplots(1, 3)\n",
    "\n",
    "slice2show=63\n",
    "\n",
    "# Show FLAIR image.\n",
    "ax1.imshow(flair_image[:,:,slice2show], cmap='gray')\n",
    "ax1.set_title('FLAIR')\n",
    "ax1.set_axis_off()\n",
    "\n",
    "# Show DWI image w/overlayed mask.\n",
    "ax2.imshow(dwi_image[:,:,slice2show], cmap='gray')\n",
    "ax2.imshow(mask_image[:,:,slice2show], alpha=0.5, cmap='copper')\n",
    "ax2.set_title('DWI')\n",
    "ax2.set_axis_off()\n",
    "\n",
    "# Show ADC image w/overlayed mask.\n",
    "ax3.imshow(adc_image[:,:,slice2show], cmap='gray')\n",
    "ax3.imshow(mask_image[:,:,slice2show], alpha=0.5, cmap='copper')\n",
    "ax3.set_title('ADC')\n",
    "ax3.set_axis_off()\n",
    "plt.tight_layout()\n",
    "plt.show()"
   ]
  },
  {
   "cell_type": "code",
   "execution_count": 22,
   "id": "411322a3",
   "metadata": {},
   "outputs": [
    {
     "data": {
      "image/png": "[encoded data removed]",
      "text/plain": [
       "<Figure size 432x288 with 3 Axes>"
      ]
     },
     "metadata": {
      "needs_background": "light"
     },
     "output_type": "display_data"
    }
   ],
   "source": [
    "transformed_flair = np.transpose(flair_image, (2, 0, 1))\n",
    "transformed_adc = np.transpose(adc_image, (2, 0, 1))\n",
    "transformed_dwi = np.transpose(dwi_image, (2, 0, 1))\n",
    "transformed_mask = np.transpose(mask_image, (2, 0, 1))\n",
    "\n",
    "fig, (ax1, ax2, ax3) = plt.subplots(1, 3)\n",
    "\n",
    "slice2show=30\n",
    "\n",
    "# Show FLAIR image.\n",
    "transformed_flair = np.transpose(flair_image, (2, 0, 1))\n",
    "ax1.imshow(transformed_flair[slice2show], cmap='gray')\n",
    "ax1.set_title('FLAIR')\n",
    "ax1.set_axis_off()\n",
    "\n",
    "# Show DWI image w/overlayed mask.\n",
    "ax2.imshow(transformed_dwi[slice2show], cmap='gray')\n",
    "ax2.imshow(transformed_mask[slice2show], alpha=0.5, cmap='copper')\n",
    "ax2.set_title('DWI')\n",
    "ax2.set_axis_off()\n",
    "\n",
    "# Show ADC image w/overlayed mask.\n",
    "ax3.imshow(transformed_adc[slice2show], cmap='gray')\n",
    "ax3.imshow(transformed_mask[slice2show], alpha=0.5, cmap='copper')\n",
    "ax3.set_title('ADC')\n",
    "ax3.set_axis_off()\n",
    "plt.tight_layout()\n",
    "plt.show()"
   ]
  },
  {
   "cell_type": "code",
   "execution_count": null,
   "id": "d8377979",
   "metadata": {},
   "outputs": [],
   "source": [
    "def normalize_to_uint8(volume):\n",
    "    min_val = np.min(volume)\n",
    "    max_val = np.max(volume)\n",
    "\n",
    "    normalized_volume = ((volume - min_val) / (max_val - min_val)) * 255\n",
    "    normalized_volume = normalized_volume.astype(np.uint8)\n",
    "    return volume\n",
    "\n",
    "raw_dwi_image = nib.load(dwi_path).get_fdata()\n",
    "raw_adc_image = nib.load(adc_path).get_fdata()\n",
    "raw_mask_image = nib.load(mask_path).get_fdata()\n",
    "\n",
    "transformed_adc = np.transpose(raw_adc_image, (2, 0, 1))\n",
    "transformed_dwi = np.transpose(raw_dwi_image, (2, 0, 1))\n",
    "transformed_mask = np.transpose(raw_mask_image, (2, 0, 1))\n",
    "\n",
    "normalized_adc = normalize_to_uint8(transformed_adc)\n",
    "normalized_dwi = normalize_to_uint8(transformed_dwi)\n",
    "normalized_mask = normalize_to_uint8(transformed_mask)\n",
    "\n",
    "\n",
    "combined_volume = np.stack((normalized_adc, normalized_dwi), axis=-1)\n"
   ]
  },
  {
   "cell_type": "code",
   "execution_count": 11,
   "id": "b1f9fdea",
   "metadata": {},
   "outputs": [],
   "source": [
    "# As an example, we'll segment the DWI using a 99th-percentile intensity cutoff. \n",
    "dwi_cutoff = np.percentile(dwi_image[dwi_image>0], 99) \n",
    "segmented_image = dwi_image > dwi_cutoff"
   ]
  },
  {
   "cell_type": "code",
   "execution_count": null,
   "id": "470e2e96",
   "metadata": {},
   "outputs": [],
   "source": [
    "import numpy as np\n",
    "\n",
    "# Assuming you have a list of cases where each case is a dictionary with 'adc_volume' and 'dwi_volume'\n",
    "# Replace this with your actual data\n",
    "cases = [\n",
    "    {'adc_volume': np.random.uniform(-1, 5, size=(73, 113, 113)),\n",
    "     'dwi_volume': np.random.uniform(-20, 2000, size=(73, 113, 113))},\n",
    "    # Add more cases here\n",
    "]\n",
    "\n",
    "def normalize_to_uint8(volume):\n",
    "    min_val = np.min(volume)\n",
    "    max_val = np.max(volume)\n",
    "\n",
    "    normalized_volume = ((volume - min_val) / (max_val - min_val)) * 255\n",
    "    normalized_volume = normalized_volume.astype(np.uint8)\n",
    "    return volume\n"
   ]
  },
  {
   "cell_type": "code",
   "execution_count": 12,
   "id": "329c75ac",
   "metadata": {},
   "outputs": [
    {
     "data": {
      "image/png": "[encoded data removed]",
      "text/plain": [
       "<Figure size 432x288 with 2 Axes>"
      ]
     },
     "metadata": {
      "needs_background": "light"
     },
     "output_type": "display_data"
    }
   ],
   "source": [
    "# Lets visualize the segmentation we've created.\n",
    "# Show ground truth.\n",
    "fig2, (ax1, ax2) = plt.subplots(1, 2)\n",
    "\n",
    "ax1.imshow(dwi_image[:,:,slice2show], cmap='gray')\n",
    "ax1.imshow(mask_image[:,:,slice2show], alpha=0.5, cmap='copper')\n",
    "ax1.set_title('Ground truth')\n",
    "ax1.set_axis_off()\n",
    "\n",
    "# Show predicted segmentation.\n",
    "ax2.imshow(dwi_image[:,:,slice2show], cmap='gray')\n",
    "ax2.imshow(segmented_image[:,:,slice2show], alpha=0.5, cmap='copper')\n",
    "ax2.set_title('Segmentation')\n",
    "ax2.set_axis_off()\n",
    "plt.tight_layout()\n",
    "plt.show()"
   ]
  },
  {
   "cell_type": "code",
   "execution_count": 32,
   "id": "cc602bf8",
   "metadata": {},
   "outputs": [
    {
     "name": "stdout",
     "output_type": "stream",
     "text": [
      "Dice score: 0.1738013698630137\n",
      "Absolute volume difference: 10.32 ml\n",
      "Absolute lesion count difference: 87 \n",
      "Lesion-wise F1-score: 0.24793388429752067 \n"
     ]
    }
   ],
   "source": [
    "# Compute performance metrics.\n",
    "# Compute dice\n",
    "print('Dice score: {}'.format(eval_utils.compute_dice(mask_image, segmented_image)))\n",
    "\n",
    "# Compute absolute volume difference\n",
    "voxel_volume = np.prod(nib.load(dwi_path).header.get_zooms())/1000 # Get voxel volume\n",
    "print('Absolute volume difference: {} ml'.format(eval_utils.compute_absolute_volume_difference(mask_image, segmented_image, voxel_volume)))\n",
    "\n",
    "# Compute absolute lesion count difference\n",
    "print('Absolute lesion count difference: {} '.format(eval_utils.compute_absolute_lesion_difference(mask_image, segmented_image)))\n",
    "\n",
    "# Compute F1-score (lesion-wise)\n",
    "print('Lesion-wise F1-score: {} '.format(eval_utils.compute_lesion_f1_score(mask_image, segmented_image)))"
   ]
  }
 ],
 "metadata": {
  "kernelspec": {
   "display_name": "mri",
   "language": "python",
   "name": "python3"
  },
  "language_info": {
   "codemirror_mode": {
    "name": "ipython",
    "version": 3
   },
   "file_extension": ".py",
   "mimetype": "text/x-python",
   "name": "python",
   "nbconvert_exporter": "python",
   "pygments_lexer": "ipython3",
   "version": "3.6.15"
  },
  "vscode": {
   "interpreter": {
    "hash": "d427ccdc240cc7b3b98713de332fea297a30cddf50a146c277fe6cda9bf07319"
   }
  }
 },
 "nbformat": 4,
 "nbformat_minor": 5
}
