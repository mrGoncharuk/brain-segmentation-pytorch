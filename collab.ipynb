{
  "cells": [
    {
      "cell_type": "code",
      "execution_count": null,
      "metadata": {
        "colab": {
          "base_uri": "https://localhost:8080/"
        },
        "id": "3M1v8hKoEfnk",
        "outputId": "46a699d4-ad1e-4a73-f61b-1f27183ebe50"
      },
      "outputs": [],
      "source": [
        "%env PYTHONPATH = # /env/python"
      ]
    },
    {
      "cell_type": "code",
      "execution_count": null,
      "metadata": {
        "colab": {
          "base_uri": "https://localhost:8080/"
        },
        "id": "ixytILR1EjG5",
        "outputId": "cf838a66-cb70-4f20-c120-e68486d3230f"
      },
      "outputs": [],
      "source": [
        "!wget https://repo.anaconda.com/miniconda/Miniconda3-py38_4.12.0-Linux-x86_64.sh\n",
        "!chmod +x Miniconda3-py38_4.12.0-Linux-x86_64.sh\n",
        "!./Miniconda3-py38_4.12.0-Linux-x86_64.sh -b -f -p /usr/local\n",
        "!conda update -y conda"
      ]
    },
    {
      "cell_type": "code",
      "execution_count": null,
      "metadata": {
        "id": "xEobyGbpEmYv"
      },
      "outputs": [],
      "source": [
        "import sys\n",
        "sys.path.append('/usr/local/lib/python3.8/site-packages')"
      ]
    },
    {
      "cell_type": "code",
      "execution_count": null,
      "metadata": {
        "colab": {
          "base_uri": "https://localhost:8080/"
        },
        "id": "6O6SPmfLEn7-",
        "outputId": "f4ff8b8a-5c7d-4132-ac8b-71f547af0e9f"
      },
      "outputs": [],
      "source": [
        "!conda create -n myenv python=3.6 -y"
      ]
    },
    {
      "cell_type": "code",
      "execution_count": null,
      "metadata": {},
      "outputs": [],
      "source": [
        "!git clone https://github.com/mrGoncharuk/brain-segmentation-pytorch.git"
      ]
    },
    {
      "cell_type": "code",
      "execution_count": null,
      "metadata": {
        "colab": {
          "base_uri": "https://localhost:8080/"
        },
        "id": "zfdMZWT7EpvI",
        "outputId": "ad58c8c4-ff85-4fea-b2ef-f88ecf40d73f"
      },
      "outputs": [],
      "source": [
        "%%shell\n",
        "eval \"$(conda shell.bash hook)\"\n",
        "conda activate myenv\n",
        "python3 --version"
      ]
    },
    {
      "cell_type": "code",
      "execution_count": null,
      "metadata": {
        "colab": {
          "base_uri": "https://localhost:8080/"
        },
        "id": "HDxyuZ_xEsCP",
        "outputId": "c24b1eed-64e2-40e5-a512-dc72db1c03a4"
      },
      "outputs": [],
      "source": [
        "%%shell\n",
        "eval \"$(conda shell.bash hook)\"\n",
        "conda activate myenv\n",
        "pip install -r brain-segmentation-pytorch/requirements.txt"
      ]
    },
    {
      "cell_type": "code",
      "execution_count": null,
      "metadata": {
        "colab": {
          "base_uri": "https://localhost:8080/"
        },
        "id": "8EwGwBDRGAvf",
        "outputId": "d669388f-8229-4f2c-f243-adae5a6f85dd"
      },
      "outputs": [],
      "source": [
        "%%shell\n",
        "eval \"$(conda shell.bash hook)\"\n",
        "conda activate myenv\n",
        "\n",
        "cd brain-segmentation-pytorch/ \\\n",
        "  && python3 train.py \\\n",
        "      --images /content/drive/MyDrive/isles/isles_short \\\n",
        "      --weights weights_isles22/ \\\n",
        "      --logs logs_isles22 \\\n",
        "      --image-size 112 \\\n",
        "      --epochs 10 \\\n",
        "      --workers 2"
      ]
    },
    {
      "cell_type": "code",
      "execution_count": null,
      "metadata": {},
      "outputs": [],
      "source": [
        "%%shell\n",
        "eval \"$(conda shell.bash hook)\"\n",
        "conda activate myenv\n",
        "\n",
        "cd brain-segmentation-pytorch/ \\\n",
        "  && python3 train.py \\\n",
        "      --batch-size 64 \\\n",
        "      --epochs 150 \\\n",
        "      --lr 0.0001 \\\n",
        "      --workers 2 \\\n",
        "      --weights weights_isles22/ \\\n",
        "      --logs logs_isles22/ \\\n",
        "      --images /content/drive/MyDrive/isles/dataset-ISLES2022 \\\n",
        "      --image-size 112 \\\n",
        "      --aug-angle 15"
      ]
    }
  ],
  "metadata": {
    "colab": {
      "provenance": []
    },
    "kernelspec": {
      "display_name": "Python 3",
      "name": "python3"
    },
    "language_info": {
      "name": "python"
    }
  },
  "nbformat": 4,
  "nbformat_minor": 0
}
